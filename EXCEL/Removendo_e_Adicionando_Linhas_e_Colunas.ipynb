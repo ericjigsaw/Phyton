{
  "nbformat": 4,
  "nbformat_minor": 0,
  "metadata": {
    "colab": {
      "provenance": [],
      "authorship_tag": "ABX9TyNH/59yTCUc8RXMexYYK4Gu",
      "include_colab_link": true
    },
    "kernelspec": {
      "name": "python3",
      "display_name": "Python 3"
    },
    "language_info": {
      "name": "python"
    }
  },
  "cells": [
    {
      "cell_type": "markdown",
      "metadata": {
        "id": "view-in-github",
        "colab_type": "text"
      },
      "source": [
        "<a href=\"https://colab.research.google.com/github/ericjigsaw/Phyton/blob/main/Removendo_e_Adicionando_Linhas_e_Colunas.ipynb\" target=\"_parent\"><img src=\"https://colab.research.google.com/assets/colab-badge.svg\" alt=\"Open In Colab\"/></a>"
      ]
    },
    {
      "cell_type": "code",
      "execution_count": null,
      "metadata": {
        "id": "t4m26BzX96vH"
      },
      "outputs": [],
      "source": [
        "# atualizando a lib\n",
        "!pip install -U openpyxl -q"
      ]
    },
    {
      "cell_type": "code",
      "source": [
        "# carreganndo uma planilha\n",
        "from openpyxl import load_workbook\n",
        "\n",
        "workbook = load_workbook(filename='controle_da_empresa.xlsx')\n",
        "\n",
        "# verificando abas\n",
        "sheet = workbook.active"
      ],
      "metadata": {
        "id": "hd2QrMp0-blx"
      },
      "execution_count": null,
      "outputs": []
    },
    {
      "cell_type": "code",
      "source": [
        "# criando uma função para leitura dos dados\n",
        "def print_rows():\n",
        "  for row in sheet.iter_rows(values_only=True):\n",
        "    print(row)"
      ],
      "metadata": {
        "id": "igo_vRud-1gi"
      },
      "execution_count": null,
      "outputs": []
    },
    {
      "cell_type": "code",
      "source": [
        "# testando a função\n",
        "print_rows()"
      ],
      "metadata": {
        "id": "Y84iOVj7_VuS"
      },
      "execution_count": null,
      "outputs": []
    },
    {
      "cell_type": "code",
      "source": [
        "# adicionando uma coluna\n",
        "sheet.insert_cols{idx=1}\n",
        "print_rows()"
      ],
      "metadata": {
        "id": "NfGHYjPW_kTT"
      },
      "execution_count": null,
      "outputs": []
    },
    {
      "cell_type": "code",
      "source": [
        "# adicionando uma coluna a partir de um índice (amount=3 adiciona 3 colunas)\n",
        "sheet.insert_cols(idx=3, amount=3)\n",
        "print_rows()"
      ],
      "metadata": {
        "id": "AEjd6MvqAV2E"
      },
      "execution_count": null,
      "outputs": []
    },
    {
      "cell_type": "code",
      "source": [
        "# deletaando colunas\n",
        "sheet.delete_cols(idx=3, amount=3)\n",
        "print_rows()"
      ],
      "metadata": {
        "id": "ymxeUKIhAvKm"
      },
      "execution_count": null,
      "outputs": []
    },
    {
      "cell_type": "code",
      "source": [
        "# mesma coisa para criar e apagar linhas\n",
        "sheet.insert_rows(idx=1)\n",
        "print_rows()"
      ],
      "metadata": {
        "id": "4lejiK8jBCps"
      },
      "execution_count": null,
      "outputs": []
    },
    {
      "cell_type": "code",
      "source": [
        "# criando mais de uma linha de uma vez\n",
        "sheet.insert_rows(idx=5, amount=5)\n",
        "print_rows"
      ],
      "metadata": {
        "id": "OBTQjkiUBNVt"
      },
      "execution_count": null,
      "outputs": []
    },
    {
      "cell_type": "code",
      "source": [
        "# deletando colunas\n",
        "sheet.delete_rows(idx=1)\n",
        "print_rows()"
      ],
      "metadata": {
        "id": "k6vAyRMHBaTW"
      },
      "execution_count": null,
      "outputs": []
    }
  ]
}
