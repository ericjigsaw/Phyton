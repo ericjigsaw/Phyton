{
  "nbformat": 4,
  "nbformat_minor": 0,
  "metadata": {
    "colab": {
      "provenance": [],
      "authorship_tag": "ABX9TyM/Tn2Uf7UZ4i5ppc/wuGLV",
      "include_colab_link": true
    },
    "kernelspec": {
      "name": "python3",
      "display_name": "Python 3"
    },
    "language_info": {
      "name": "python"
    }
  },
  "cells": [
    {
      "cell_type": "markdown",
      "metadata": {
        "id": "view-in-github",
        "colab_type": "text"
      },
      "source": [
        "<a href=\"https://colab.research.google.com/github/ericjigsaw/Phyton/blob/main/Adicionando_Dados_a_uma_Planilha.ipynb\" target=\"_parent\"><img src=\"https://colab.research.google.com/assets/colab-badge.svg\" alt=\"Open In Colab\"/></a>"
      ]
    },
    {
      "cell_type": "code",
      "execution_count": null,
      "metadata": {
        "id": "5uThz-8I5VKk"
      },
      "outputs": [],
      "source": [
        "# carregando uma planilha\n",
        "from openpyxl import load_workbook\n",
        "\n",
        "workbook = load_workbook(filename='sample.xlsx')\n",
        "\n",
        "# verificando abas\n",
        "sheet = workbook.active"
      ]
    },
    {
      "cell_type": "code",
      "source": [
        "# acessanndo as células\n",
        "sheet['A1'].value"
      ],
      "metadata": {
        "id": "acCA5pMT6q_r"
      },
      "execution_count": null,
      "outputs": []
    },
    {
      "cell_type": "code",
      "source": [
        "# modificando o valor\n",
        "sheet['A1'] = 'Marketplace'\n",
        "\n",
        "# conferindo o resultado\n",
        "sheet['A1'].value"
      ],
      "metadata": {
        "id": "eni3RR1-7HMb"
      },
      "execution_count": null,
      "outputs": []
    },
    {
      "cell_type": "code",
      "source": [
        "# associando uma célula a uma variável\n",
        "cell = sheet['A1']\n",
        "\n",
        "# verificando o valor\n",
        "cell.value"
      ],
      "metadata": {
        "id": "y1SRMK1B7tO8"
      },
      "execution_count": null,
      "outputs": []
    },
    {
      "cell_type": "code",
      "source": [
        "# modificando o conteúdo da célula\n",
        "cell.value = 'marketplace'\n",
        "\n",
        "# verificando mudança\n",
        "cell.value"
      ],
      "metadata": {
        "id": "puIOaC_f747E"
      },
      "execution_count": null,
      "outputs": []
    },
    {
      "cell_type": "code",
      "source": [
        "# verificando quantidade de linhas\n",
        "sheet.dimensions"
      ],
      "metadata": {
        "id": "DfkViakL8hfm"
      },
      "execution_count": null,
      "outputs": []
    },
    {
      "cell_type": "code",
      "source": [
        "# verificando todas as linhas\n",
        "def print_rows():\n",
        "  for row in sheet.iter_rows(values_only=True):\n",
        "    print(row)\n",
        "print_rows()"
      ],
      "metadata": {
        "id": "uNHCPd188pEe"
      },
      "execution_count": null,
      "outputs": []
    },
    {
      "cell_type": "code",
      "source": [],
      "metadata": {
        "id": "DZtpiqzX8yFf"
      },
      "execution_count": null,
      "outputs": []
    }
  ]
}
