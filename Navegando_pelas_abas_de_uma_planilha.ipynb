{
  "nbformat": 4,
  "nbformat_minor": 0,
  "metadata": {
    "colab": {
      "provenance": [],
      "authorship_tag": "ABX9TyMjsm7A17ZkrjRvnQh92IgB",
      "include_colab_link": true
    },
    "kernelspec": {
      "name": "python3",
      "display_name": "Python 3"
    },
    "language_info": {
      "name": "python"
    }
  },
  "cells": [
    {
      "cell_type": "markdown",
      "metadata": {
        "id": "view-in-github",
        "colab_type": "text"
      },
      "source": [
        "<a href=\"https://colab.research.google.com/github/ericjigsaw/Phyton/blob/main/Navegando_pelas_abas_de_uma_planilha.ipynb\" target=\"_parent\"><img src=\"https://colab.research.google.com/assets/colab-badge.svg\" alt=\"Open In Colab\"/></a>"
      ]
    },
    {
      "cell_type": "code",
      "source": [
        "# atualizando a lib\n",
        "!pip install -U openpyxl -q"
      ],
      "metadata": {
        "id": "5iGckuNxvf-5"
      },
      "execution_count": null,
      "outputs": []
    },
    {
      "cell_type": "code",
      "source": [
        "# carregando uma planilha\n",
        "from openpyxl import load_workbook\n",
        "\n",
        "workbook = load_workbook(filename='planilha.xlsx')"
      ],
      "metadata": {
        "id": "ytGQs-Lsvndr"
      },
      "execution_count": null,
      "outputs": []
    },
    {
      "cell_type": "code",
      "execution_count": null,
      "metadata": {
        "id": "afRQnmPVqaP3"
      },
      "outputs": [],
      "source": [
        "# escolhendo uma aba\n",
        "sheet = workbook['Vendas']"
      ]
    },
    {
      "cell_type": "code",
      "source": [
        "# modificar o nome da aba\n",
        "sheet.title = 'VendasVendas'\n",
        "sheet"
      ],
      "metadata": {
        "id": "KlpnO1Xztevi"
      },
      "execution_count": null,
      "outputs": []
    },
    {
      "cell_type": "code",
      "source": [
        "# criando uma nova aba\n",
        "new_sheet = workbook.create_sheet('Nova Aba')\n",
        "workbook.sheetnames"
      ],
      "metadata": {
        "id": "Y1BfAmbbtkz5"
      },
      "execution_count": null,
      "outputs": []
    },
    {
      "cell_type": "code",
      "source": [
        "# escolhendo a posição da nova aba\n",
        "nova_aba = workbook.create_sheet('Primeira Aba', 0)\n",
        "workbook.sheetnames"
      ],
      "metadata": {
        "id": "IRRUe_83uT6p"
      },
      "execution_count": null,
      "outputs": []
    },
    {
      "cell_type": "code",
      "source": [
        "# removendo abas\n",
        "workbook.remove(nova_aba)\n",
        "workbook.remove(new_sheet)\n",
        "workbook.sheetnames"
      ],
      "metadata": {
        "id": "xfoRb8vuumu5"
      },
      "execution_count": null,
      "outputs": []
    },
    {
      "cell_type": "code",
      "source": [
        "# copiando abas\n",
        "workbook.copy_worsheet(sheet)\n",
        "workbook.sheetnames"
      ],
      "metadata": {
        "id": "CxfU45yWvQGD"
      },
      "execution_count": null,
      "outputs": []
    }
  ]
}