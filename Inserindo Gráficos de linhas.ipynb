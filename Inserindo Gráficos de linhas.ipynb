{
  "nbformat": 4,
  "nbformat_minor": 0,
  "metadata": {
    "colab": {
      "provenance": [],
      "authorship_tag": "ABX9TyPRWvzi6VomJIoj2nUrWdX9",
      "include_colab_link": true
    },
    "kernelspec": {
      "name": "python3",
      "display_name": "Python 3"
    },
    "language_info": {
      "name": "python"
    }
  },
  "cells": [
    {
      "cell_type": "markdown",
      "metadata": {
        "id": "view-in-github",
        "colab_type": "text"
      },
      "source": [
        "<a href=\"https://colab.research.google.com/github/ericjigsaw/Phyton/blob/main/Inserindo%20Gr%C3%A1ficos%20de%20linhas.ipynb\" target=\"_parent\"><img src=\"https://colab.research.google.com/assets/colab-badge.svg\" alt=\"Open In Colab\"/></a>"
      ]
    },
    {
      "cell_type": "code",
      "execution_count": null,
      "metadata": {
        "id": "k7YVdonHriyx"
      },
      "outputs": [],
      "source": [
        "from openpyxl.chart.axis import DateAxis\n",
        "from datetime import date\n",
        "\n",
        "# criando a planilha\n",
        "wb = Workbook()\n",
        "\n",
        "# acessando a aba\n",
        "ws = wb.active\n",
        "\n",
        "# criando os dados\n",
        "rows = [\n",
        "    ['Date', 'Batch 1', 'Batch 2', 'Batch 3'],\n",
        "    [date(2015,9, 1), 40, 30, 25],\n",
        "    [date(2015,9, 2), 40, 25, 30],\n",
        "    [date(2015,9, 3), 50, 30, 45],\n",
        "    [date(2015,9, 4), 30, 25, 40],\n",
        "    [date(2015,9, 5), 25, 35, 30],\n",
        "    [date(2015,9, 6), 20, 40, 35],\n",
        "]\n",
        "\n",
        "# inserindo os dados\n",
        "for row in rows:\n",
        "    ws.append(row)\n",
        "\n",
        "# criando o gráfico\n",
        "c1 = LineChart()\n",
        "c1.title = \"Line Chart\"\n",
        "c1.style = 13\n",
        "c1.y_axis.title = 'Tamanho'\n",
        "c1.x_axis.title = 'Número de testes'\n",
        "\n",
        "data = Reference(ws, min_col=2, min_row=1, max_col=4, max_row=7)\n",
        "\n",
        "# adicionando as referências\n",
        "c1.add_data(data, titles_from_data=True)\n",
        "\n",
        "# adicionando o gráfico à planilha\n",
        "ws.add_chart(c1, \"A10\")\n",
        "\n",
        "# salvando a planilha\n",
        "wb.save(filename='line_chart.xlsx')"
      ]
    }
  ]
}