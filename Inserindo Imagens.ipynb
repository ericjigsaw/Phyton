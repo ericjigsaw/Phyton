{
  "nbformat": 4,
  "nbformat_minor": 0,
  "metadata": {
    "colab": {
      "provenance": [],
      "authorship_tag": "ABX9TyOpWMWqV7y/ju5YSpT5kYI6",
      "include_colab_link": true
    },
    "kernelspec": {
      "name": "python3",
      "display_name": "Python 3"
    },
    "language_info": {
      "name": "python"
    }
  },
  "cells": [
    {
      "cell_type": "markdown",
      "metadata": {
        "id": "view-in-github",
        "colab_type": "text"
      },
      "source": [
        "<a href=\"https://colab.research.google.com/github/ericjigsaw/Phyton/blob/main/Inserindo%20Imagens.ipynb\" target=\"_parent\"><img src=\"https://colab.research.google.com/assets/colab-badge.svg\" alt=\"Open In Colab\"/></a>"
      ]
    },
    {
      "cell_type": "code",
      "execution_count": null,
      "metadata": {
        "id": "YTuaIuOvPwLw"
      },
      "outputs": [],
      "source": [
        " # atualizando a lib\n",
        " !pip install -U openpyxl -q\n"
      ]
    },
    {
      "cell_type": "code",
      "source": [
        "# carregando uma planilha\n",
        "from openpyxl import load_workbook\n",
        "from openpyxl.drawing.image import Image\n",
        "\n",
        "workbook = load_workbook(filename='planilha.xlsx')\n",
        "\n",
        "#verificando as abas\n",
        "workbook.sheetnames"
      ],
      "metadata": {
        "id": "-SC4ipCaVi3Q"
      },
      "execution_count": null,
      "outputs": []
    },
    {
      "cell_type": "code",
      "source": [
        "# carregando uma aba específica\n",
        "sheet = workbook['Página1']"
      ],
      "metadata": {
        "id": "x55-T2WsV3QP"
      },
      "execution_count": null,
      "outputs": []
    },
    {
      "cell_type": "code",
      "source": [
        "# carregando a imagem\n",
        "logo = Image('logo.png')\n",
        "\n",
        "# modificando a altura\n",
        "logo.height = 150\n",
        "\n",
        "# modificando a largura\n",
        "logo.width = 150"
      ],
      "metadata": {
        "id": "0P7kTplSWJyX"
      },
      "execution_count": null,
      "outputs": []
    },
    {
      "cell_type": "code",
      "source": [
        "# adicionando a imagem\n",
        "sheet.add_image(logo, 'D12')\n",
        "workbook.save(filename='planilha.xlsx')"
      ],
      "metadata": {
        "id": "WJ94VoB4WbCG"
      },
      "execution_count": null,
      "outputs": []
    }
  ]
}