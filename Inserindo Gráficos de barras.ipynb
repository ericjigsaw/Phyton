{
  "nbformat": 4,
  "nbformat_minor": 0,
  "metadata": {
    "colab": {
      "provenance": [],
      "authorship_tag": "ABX9TyOyoXx+UzMkL+6har13IKiE",
      "include_colab_link": true
    },
    "kernelspec": {
      "name": "python3",
      "display_name": "Python 3"
    },
    "language_info": {
      "name": "python"
    }
  },
  "cells": [
    {
      "cell_type": "markdown",
      "metadata": {
        "id": "view-in-github",
        "colab_type": "text"
      },
      "source": [
        "<a href=\"https://colab.research.google.com/github/ericjigsaw/Phyton/blob/main/Inserindo%20Gr%C3%A1ficos%20de%20barras.ipynb\" target=\"_parent\"><img src=\"https://colab.research.google.com/assets/colab-badge.svg\" alt=\"Open In Colab\"/></a>"
      ]
    },
    {
      "cell_type": "code",
      "execution_count": null,
      "metadata": {
        "id": "M8DHkdTOjKEf"
      },
      "outputs": [],
      "source": [
        "# atualizando a lib\n",
        "!pip install -U openpyxl -q"
      ]
    },
    {
      "cell_type": "code",
      "source": [
        "# carregando uma planilha\n",
        "from openpyxl import load_workbook, Workbook\n",
        "from openpyxl.chart import BarChart, LineChart, Reference\n",
        "\n",
        "workbook = load_workbook(filename='planilha.xlsx')\n",
        "\n",
        "# verificando abas\n",
        "workbook.sheetnames\n",
        "\n",
        "#carrregando uma aba específica\n",
        "sheet = workbook['Estoque']"
      ],
      "metadata": {
        "id": "5YVkDJufj0B3"
      },
      "execution_count": null,
      "outputs": []
    },
    {
      "cell_type": "code",
      "source": [
        "# criando um objeto BarChart\n",
        "chart = BarChart()\n",
        "\n",
        "# adicionando os dados de referência\n",
        "# data = Reference(worksheet-sheet,\n",
        "#                 min_row1,\n",
        "#                 max_row=91,\n",
        "#                 min_col=2,\n",
        "#                 maax_col=6)\n",
        "\n",
        "data = \"Estoque!$B$1:$C$11\"\n",
        "\n",
        "# nomeando eixos\n",
        "chart.x_axis.title = \"Itens\"\n",
        "chart.y_axis.title = \"Estoque Mínimo\"\n",
        "\n",
        "# adicionando os dados ao gráfico\n",
        "chart.add_data(data, titles_from_data=True)\n",
        "\n",
        "# adicionando gráficos à planilha\n",
        "sheet.aadd_chart(chart, 'H1')"
      ],
      "metadata": {
        "id": "L2W68oCKlHC3"
      },
      "execution_count": null,
      "outputs": []
    },
    {
      "cell_type": "code",
      "source": [
        "# salvando aa planilha com gráficos de barras\n",
        "workbook.save(filename='planilha.xlsx')"
      ],
      "metadata": {
        "id": "RbRxJcxGoas3"
      },
      "execution_count": null,
      "outputs": []
    }
  ]
}