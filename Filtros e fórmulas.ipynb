{
  "nbformat": 4,
  "nbformat_minor": 0,
  "metadata": {
    "colab": {
      "provenance": [],
      "authorship_tag": "ABX9TyPkZEDgPx4eI8KBr6eRMPHX",
      "include_colab_link": true
    },
    "kernelspec": {
      "name": "python3",
      "display_name": "Python 3"
    },
    "language_info": {
      "name": "python"
    }
  },
  "cells": [
    {
      "cell_type": "markdown",
      "metadata": {
        "id": "view-in-github",
        "colab_type": "text"
      },
      "source": [
        "<a href=\"https://colab.research.google.com/github/ericjigsaw/Phyton/blob/main/Filtros%20e%20f%C3%B3rmulas.ipynb\" target=\"_parent\"><img src=\"https://colab.research.google.com/assets/colab-badge.svg\" alt=\"Open In Colab\"/></a>"
      ]
    },
    {
      "cell_type": "code",
      "execution_count": null,
      "metadata": {
        "id": "-SZ86s8SwCiI"
      },
      "outputs": [],
      "source": [
        "# atualizando a lib\n",
        "!pip install -U openpyxl -q"
      ]
    },
    {
      "cell_type": "code",
      "source": [
        "# carregando uma planilha\n",
        "from openpyxl import load_workbook\n",
        "\n",
        "workbook = load_workbook(filename='planilha.xlsx')\n",
        "\n",
        "# verificando abas\n",
        "workbook.sheetnames"
      ],
      "metadata": {
        "id": "6c49pXBUwgOr"
      },
      "execution_count": null,
      "outputs": []
    },
    {
      "cell_type": "code",
      "source": [
        "# carregando uma aba específica\n",
        "sheet = workbook['Vendas']"
      ],
      "metadata": {
        "id": "i7ydyx0kwsPS"
      },
      "execution_count": null,
      "outputs": []
    },
    {
      "cell_type": "code",
      "source": [
        "# dimensões dos conjuntos de dados\n",
        "shhet.dimensions"
      ],
      "metadata": {
        "id": "aebBOFA2w0ny"
      },
      "execution_count": null,
      "outputs": []
    },
    {
      "cell_type": "code",
      "source": [
        "# adicionando um filtro\n",
        "sheet.auto_filter.ref = 'A1:F91'"
      ],
      "metadata": {
        "id": "CAd0DR1byMJi"
      },
      "execution_count": null,
      "outputs": []
    },
    {
      "cell_type": "code",
      "source": [
        "# salvando o arquivo\n",
        "workbook.save(filename='planilha2.xlsx')"
      ],
      "metadata": {
        "id": "kSK0Ptqbyboy"
      },
      "execution_count": null,
      "outputs": []
    },
    {
      "cell_type": "code",
      "source": [
        "# fórmulas\n",
        "# importando o módulo\n",
        "from openpyxl.utilis import FORMULAE"
      ],
      "metadata": {
        "id": "xEjMlvO1y2EK"
      },
      "execution_count": null,
      "outputs": []
    },
    {
      "cell_type": "code",
      "source": [
        "# verificando as fórmulas\n",
        "FORMULAE"
      ],
      "metadata": {
        "id": "-ove-TDGzLu6"
      },
      "execution_count": null,
      "outputs": []
    },
    {
      "cell_type": "code",
      "source": [
        "# associando uma fórmula a uma célula\n",
        "sheet['G1'] = 'Valor Médio'\n",
        "sheet['G2'] = '=AVERAGE(E2:E91)'\n",
        "\n",
        "# salvando planilha para conferência\n",
        "workbook.save(filename='planilha.xlsx')"
      ],
      "metadata": {
        "id": "3hwO43t_zPey"
      },
      "execution_count": null,
      "outputs": []
    },
    {
      "cell_type": "code",
      "source": [
        "# fórmula condicional\n",
        "sheet['G3'] = '=SUMIF(B2:B91, \"Canon 6D Mark II\", C2:C91)'\n",
        "\n",
        "# salvando a planilha\n",
        "workbook.save(filename='planilha.xlsx')"
      ],
      "metadata": {
        "id": "JCP29Vou0V1D"
      },
      "execution_count": null,
      "outputs": []
    }
  ]
}