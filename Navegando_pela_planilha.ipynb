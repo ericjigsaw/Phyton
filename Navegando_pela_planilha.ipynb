{
  "nbformat": 4,
  "nbformat_minor": 0,
  "metadata": {
    "colab": {
      "provenance": [],
      "authorship_tag": "ABX9TyOa7bfATD2uBxn2Sn3XVp/n",
      "include_colab_link": true
    },
    "kernelspec": {
      "name": "python3",
      "display_name": "Python 3"
    },
    "language_info": {
      "name": "python"
    }
  },
  "cells": [
    {
      "cell_type": "markdown",
      "metadata": {
        "id": "view-in-github",
        "colab_type": "text"
      },
      "source": [
        "<a href=\"https://colab.research.google.com/github/ericjigsaw/Phyton/blob/main/Navegando_pela_planilha.ipynb\" target=\"_parent\"><img src=\"https://colab.research.google.com/assets/colab-badge.svg\" alt=\"Open In Colab\"/></a>"
      ]
    },
    {
      "cell_type": "code",
      "execution_count": null,
      "metadata": {
        "id": "V9v1PT-BU-lL"
      },
      "outputs": [],
      "source": [
        "# atualizando o pacote\n",
        "!pip install-U openpyxl-q\n",
        "\n",
        "# carregando uma  planilha\n",
        "from openpyxl import load_workbook\n",
        "\n",
        "# verificando abas\n",
        "sheet=workbook['Vendas']"
      ]
    },
    {
      "cell_type": "code",
      "source": [
        "# acessando um intervalo\n",
        "sheet['A1:C2']"
      ],
      "metadata": {
        "id": "v1_3OLPZWjmU"
      },
      "execution_count": null,
      "outputs": []
    },
    {
      "cell_type": "code",
      "source": [
        "# acessando uma coluna\n",
        "sheet['A']"
      ],
      "metadata": {
        "id": "tW2MjoRUYYbE"
      },
      "execution_count": null,
      "outputs": []
    },
    {
      "cell_type": "code",
      "source": [
        "# acessando uma linha\n",
        "sheet ['1']"
      ],
      "metadata": {
        "id": "835Y8oLeYe7b"
      },
      "execution_count": null,
      "outputs": []
    },
    {
      "cell_type": "code",
      "source": [
        "# iterando sobre dados (linhas)\n",
        "for row sheet.iter_rows(min_row=1,\n",
        "                        max_row=2\n",
        "                        min_col=1,\n",
        "                        max_col=2):\n",
        "  print(row)"
      ],
      "metadata": {
        "colab": {
          "base_uri": "https://localhost:8080/",
          "height": 106
        },
        "id": "tA3KuxA6ZBoL",
        "outputId": "988bf1e1-e892-495e-b531-10348f02fbc8"
      },
      "execution_count": 1,
      "outputs": [
        {
          "output_type": "error",
          "ename": "SyntaxError",
          "evalue": "invalid syntax (<ipython-input-1-2443156c2adf>, line 2)",
          "traceback": [
            "\u001b[0;36m  File \u001b[0;32m\"<ipython-input-1-2443156c2adf>\"\u001b[0;36m, line \u001b[0;32m2\u001b[0m\n\u001b[0;31m    for row sheet.iter_rows(min_row=1,)\u001b[0m\n\u001b[0m            ^\u001b[0m\n\u001b[0;31mSyntaxError\u001b[0m\u001b[0;31m:\u001b[0m invalid syntax\n"
          ]
        }
      ]
    },
    {
      "cell_type": "code",
      "source": [
        "# iterando sobre dados (colunas)\n",
        "for row sheet.iter_cols(min_row=1,\n",
        "                        max_row=2\n",
        "                        min_col=1,\n",
        "                        max_col=2):\n",
        "  print(col)"
      ],
      "metadata": {
        "id": "5MWuWxqdZqvF"
      },
      "execution_count": null,
      "outputs": []
    },
    {
      "cell_type": "code",
      "source": [
        "# iterando sobre dados (conteúdo da célula)\n",
        "for value in sheet.iter_rows(min_row=1,\n",
        "                            max_row=2\n",
        "                            min_col=1,\n",
        "                            max_col=2\n",
        "                             values_only=True):\n",
        "  print(value)"
      ],
      "metadata": {
        "id": "gVA1OU3oZM5K"
      },
      "execution_count": null,
      "outputs": []
    },
    {
      "cell_type": "code",
      "source": [
        "# iterando pela planilha inteira\n",
        "\n",
        "for value in sheet.iter_rows(values_only=True):\n",
        "  print(value)"
      ],
      "metadata": {
        "id": "2JMCno6BbMBd"
      },
      "execution_count": null,
      "outputs": []
    }
  ]
}