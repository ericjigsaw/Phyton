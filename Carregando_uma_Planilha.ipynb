{
  "nbformat": 4,
  "nbformat_minor": 0,
  "metadata": {
    "colab": {
      "provenance": [],
      "authorship_tag": "ABX9TyNcYeMlukYN8YJeGPstdfpk",
      "include_colab_link": true
    },
    "kernelspec": {
      "name": "python3",
      "display_name": "Python 3"
    },
    "language_info": {
      "name": "python"
    }
  },
  "cells": [
    {
      "cell_type": "markdown",
      "metadata": {
        "id": "view-in-github",
        "colab_type": "text"
      },
      "source": [
        "<a href=\"https://colab.research.google.com/github/ericjigsaw/Phyton/blob/main/Carregando_uma_Planilha.ipynb\" target=\"_parent\"><img src=\"https://colab.research.google.com/assets/colab-badge.svg\" alt=\"Open In Colab\"/></a>"
      ]
    },
    {
      "cell_type": "code",
      "execution_count": 1,
      "metadata": {
        "id": "BUWJld_puGZW"
      },
      "outputs": [],
      "source": [
        "# atualizando o pacote\n",
        "!pip install -U openpyxl -q"
      ]
    },
    {
      "cell_type": "code",
      "source": [
        "# importando a lib\n",
        "from openpyxl import Workbook\n",
        "\n",
        "# criando o workbook / planilha\n",
        "workbook = Workbook()\n",
        "\n",
        "# selecionando a aba\n",
        "sheet = workbook.active"
      ],
      "metadata": {
        "id": "CLpYeEKxu8Bv"
      },
      "execution_count": 4,
      "outputs": []
    },
    {
      "cell_type": "code",
      "source": [
        "# acessando as células A1 e B1 e associando valores a elas\n",
        "sheet['A1'] = 'hello'\n",
        "sheet['B1'] = 'word'\n",
        "\n",
        "# para salvar as alterações, utilizar o comando abaixo\n",
        "workbook.save(filename='helloword.xls')"
      ],
      "metadata": {
        "id": "LDdNCtaqv5n2"
      },
      "execution_count": 5,
      "outputs": []
    },
    {
      "cell_type": "code",
      "source": [
        "# carregando uma planilha\n",
        "from openpyxl import load_workbook\n",
        "\n",
        "# carregando o arquivo\n",
        "workbook = load_workbook(filename='controle_da_empresa.xlsx')\n",
        "\n",
        "# verificando abas\n",
        "workbook.sheetnames"
      ],
      "metadata": {
        "id": "2iRxwl9AvyzU"
      },
      "execution_count": 3,
      "outputs": []
    },
    {
      "cell_type": "code",
      "source": [
        "# selecionando a aba ativa\n",
        "sheet = workbook['Vendas']\n",
        "\n",
        "# verificando a aba aberta\n",
        "sheet.title"
      ],
      "metadata": {
        "id": "2k-6iOotyuMF"
      },
      "execution_count": null,
      "outputs": []
    },
    {
      "cell_type": "code",
      "source": [
        "# acessando as células\n",
        "sheet['F10'].value\n",
        "\n",
        "# ou pelo método cell, index do excel começa em 1\n",
        "sheet.cell(row=10, column=6).value"
      ],
      "metadata": {
        "id": "YtMACEMTzG4l"
      },
      "execution_count": null,
      "outputs": []
    },
    {
      "cell_type": "code",
      "source": [
        "# adicione parêntesis e verifique a doc string para ver os argumentos, read_only=modo leitura, data_only=copia as fórmulas\n",
        "workbook2 = load_workbook(read_olny=True, data_only=True)"
      ],
      "metadata": {
        "id": "HAZK-FHMzzwb"
      },
      "execution_count": null,
      "outputs": []
    }
  ]
}